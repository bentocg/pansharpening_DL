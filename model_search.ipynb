{
 "cells": [
  {
   "cell_type": "markdown",
   "metadata": {
    "collapsed": true
   },
   "source": [
    "# Model search \n",
    "---"
   ]
  },
  {
   "cell_type": "code",
   "execution_count": null,
   "metadata": {
    "collapsed": true
   },
   "outputs": [],
   "source": [
    "for lr in [1E-3, 1E-4, 1E-5]:\n",
    "    for cycles in [2, 3, 4]:\n",
    "        for loss_func in [\"SL1\", \"MSE\", \"Dice\", \"Focal\"]:\n",
    "            !python train_model.py --t_dir=\"training_set\" \\\n",
    "                                   --models_dir=\"saved_models\" \\\n",
    "                                   --hyp_set=\"A\" \\\n",
    "                                   --model_arch=\"U-Net\" \\\n",
    "                                   --lr=$lr \\\n",
    "                                   --num_cycles=$cycles \\\n",
    "                                   --loss_func=$loss_func \\\n",
    "                                   --num_epochs=5"
   ]
  }
 ],
 "metadata": {
  "kernelspec": {
   "display_name": "Python 3",
   "language": "python",
   "name": "python3"
  },
  "language_info": {
   "codemirror_mode": {
    "name": "ipython",
    "version": 3
   },
   "file_extension": ".py",
   "mimetype": "text/x-python",
   "name": "python",
   "nbconvert_exporter": "python",
   "pygments_lexer": "ipython3",
   "version": "3.6.6"
  }
 },
 "nbformat": 4,
 "nbformat_minor": 1
}
