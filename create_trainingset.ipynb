{
 "cells": [
  {
   "cell_type": "markdown",
   "metadata": {
    "collapsed": true
   },
   "source": [
    "# Pansharpening GANs -- training set creation"
   ]
  },
  {
   "cell_type": "markdown",
   "metadata": {
    "collapsed": true
   },
   "source": [
    "## Setup"
   ]
  },
  {
   "cell_type": "code",
   "execution_count": 1,
   "metadata": {
    "collapsed": true
   },
   "outputs": [],
   "source": [
    "import os\n",
    "import pandas as pd\n",
    "import numpy as np"
   ]
  },
  {
   "cell_type": "markdown",
   "metadata": {},
   "source": [
    "### Process raw rasters"
   ]
  },
  {
   "cell_type": "code",
   "execution_count": null,
   "metadata": {
    "collapsed": true
   },
   "outputs": [],
   "source": [
    "# read all files\n",
    "raster_files = [scn for scn in os.listdir('raw_scenes') if scn.split('.')[-1] == '.tif']\n",
    "\n",
    "# separate by panchromatic and multispectral\n",
    "raster_pan = [scn in raster_files if 'P1BS' in scn]\n",
    "raster_ms = [scn in raster_files if 'M1BS' in scn]\n",
    "\n",
    "# process scenes\n",
    "for scn_pan in raster_pan:\n",
    "    scn_ms = f\"{scn.split('-')[0]}M1BS{scn.split('-')[2]}\"\n",
    "    # check if matching multispectral scene is present\n",
    "    if scn_ms in raster_ms:\n",
    "        !python generate_training_scene.py --pan_scene=$scn_pan \\\n",
    "                                           --ms_scene=$scn_ms \\\n",
    "                                           --output_foler=\"processed_scenes\""
   ]
  },
  {
   "cell_type": "markdown",
   "metadata": {},
   "source": [
    "### Tile processed rasters"
   ]
  },
  {
   "cell_type": "code",
   "execution_count": 2,
   "metadata": {
    "collapsed": true
   },
   "outputs": [],
   "source": [
    "# find all panchromatic processed rasters\n",
    "processed_pan = [scn for scn in os.listdir('processed_scenes') if 'pan' in scn]\n",
    "\n",
    "# tile raster pairs (split into training and validation)\n",
    "prob_val = 0.1\n",
    "for scn_pan in processed_pan:\n",
    "    if np.random.random() > prob_val:\n",
    "        !python tile_training_scene.py --file_pan=$scn_pan --dataset=\"training\" \\\n",
    "                                       --patch_size=336 --stride=0.7\n",
    "    else:\n",
    "        !python tile_training_scene.py --file_pan=$scn_pan --dataset=\"validation\" \\\n",
    "                                       --patch_size=224 --stride=1"
   ]
  }
 ],
 "metadata": {
  "kernelspec": {
   "display_name": "Python 3",
   "language": "python",
   "name": "python3"
  },
  "language_info": {
   "codemirror_mode": {
    "name": "ipython",
    "version": 3
   },
   "file_extension": ".py",
   "mimetype": "text/x-python",
   "name": "python",
   "nbconvert_exporter": "python",
   "pygments_lexer": "ipython3",
   "version": "3.6.6"
  }
 },
 "nbformat": 4,
 "nbformat_minor": 1
}
